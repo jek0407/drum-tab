{
 "cells": [
  {
   "cell_type": "code",
   "execution_count": null,
   "metadata": {},
   "outputs": [],
   "source": [
    "import torch\n",
    "import numpy as np\n",
    "import torch.nn as nn\n",
    "from torch.utils.data import DataLoader\n",
    "import torch.optim as optim\n",
    "from torchvision import transforms\n",
    "\n",
    "from origindataset import OriginDataset,Compose\n",
    "from dataaug import DataAug\n",
    "from segdataset import SegDataset\n",
    "from unet import UNet\n",
    "\n",
    "import matplotlib.pyplot as plt"
   ]
  },
  {
   "cell_type": "markdown",
   "metadata": {},
   "source": [
    "# Augmentation"
   ]
  },
  {
   "cell_type": "code",
   "execution_count": 3,
   "metadata": {},
   "outputs": [],
   "source": [
    "# transform_aug = Compose([\n",
    "#     transforms.RandomHorizontalFlip(p=1),\n",
    "#     transforms.RandomVerticalFlip(p=1),\n",
    "#     transforms.Resize((1000, 1000)),\n",
    "#     transforms.RandomResizedCrop((512, 512)),\n",
    "#     transforms.ToTensor()\n",
    "# ])\n",
    "\n",
    "# original_dataset = OriginDataset('./data/train/image','./data/train/label',transform=transform_aug)\n",
    "# original_loader = DataLoader(original_dataset, batch_size = 1, shuffle = True, pin_memory = True)\n",
    "\n",
    "# aug_num = 100\n",
    "# DataAug(original_loader,aug_num,aug_path='./data/train/aug/')"
   ]
  },
  {
   "cell_type": "markdown",
   "metadata": {},
   "source": [
    "# Training set loader"
   ]
  },
  {
   "cell_type": "code",
   "execution_count": 3,
   "metadata": {},
   "outputs": [],
   "source": [
    "transform = transforms.Compose([\n",
    "    transforms.ToTensor(),\n",
    "])\n",
    "\n",
    "train_dataset = SegDataset('./data/train/aug',transform=transform)\n",
    "train_loader = DataLoader(train_dataset, batch_size = 2, shuffle = True, pin_memory = True)"
   ]
  },
  {
   "cell_type": "markdown",
   "metadata": {},
   "source": [
    "# Training"
   ]
  },
  {
   "cell_type": "code",
   "execution_count": null,
   "metadata": {},
   "outputs": [],
   "source": [
    "device = torch.device(\"cuda:0\" if torch.cuda.is_available() else \"cpu\")\n",
    "\n",
    "unet = UNet().to(device)\n",
    "\n",
    "unet.train()\n",
    "unet.to(device)\n",
    "\n",
    "criterion = nn.BCELoss().cuda()\n",
    "optimizer = optim.Adam(unet.parameters(),lr=1e-4)\n",
    "\n",
    "\n",
    "iteration = 0\n",
    "iterations = []\n",
    "loss_trains = []\n",
    "loss_valids = []\n",
    "\n",
    "correct_valid = 0\n",
    "total_valid = 0\n",
    "correct_train = 0\n",
    "total_train = 0\n",
    "\n",
    "unet.train()\n",
    "\n",
    "for epoch in range(10):  # loop over the dataset multiple times\n",
    "    running_loss_train = 0.0\n",
    "\n",
    "    for i, data in enumerate(train_loader, 0):\n",
    "        # get the inputs\n",
    "        input_train, label_train = data\n",
    "        del data\n",
    "        input_train, label_train = input_train.to(device).float(), label_train.to(device).float()\n",
    "        # zero the parameter gradients\n",
    "        optimizer.zero_grad()\n",
    "        pred_train = unet(input_train)\n",
    "        #del input_train\n",
    "        loss_train = criterion(pred_train, label_train)\n",
    "\n",
    "        loss_train.backward()\n",
    "        optimizer.step()\n",
    "            \n",
    "        iteration += 1\n",
    "        # print statistics\n",
    "        running_loss_train += loss_train.item()\n",
    "\n",
    "        loss_trains.append(running_loss_train/iteration)\n",
    "\n",
    "        iterations.append(iteration)\n",
    "\n",
    "    print('[%d, %5d] loss_t: %.3f, - iteration : %d' %\n",
    "          (epoch + 1, i + 1, running_loss_train/iteration, iteration))\n",
    "\n",
    "    running_loss_train = 0.0\n",
    "    iteration = 0\n",
    "    save_path = \"./unet_result.pth\"\n",
    "    torch.save(unet.state_dict(), save_path) \n",
    "print('Finished Training')"
   ]
  },
  {
   "cell_type": "code",
   "execution_count": null,
   "metadata": {},
   "outputs": [],
   "source": [
    "import matplotlib.pyplot as plt\n",
    "plt.plot(loss_trains)"
   ]
  }
 ],
 "metadata": {
  "kernelspec": {
   "display_name": "new_torch",
   "language": "python",
   "name": "new_torch"
  },
  "language_info": {
   "codemirror_mode": {
    "name": "ipython",
    "version": 3
   },
   "file_extension": ".py",
   "mimetype": "text/x-python",
   "name": "python",
   "nbconvert_exporter": "python",
   "pygments_lexer": "ipython3",
   "version": "3.6.10"
  }
 },
 "nbformat": 4,
 "nbformat_minor": 4
}
